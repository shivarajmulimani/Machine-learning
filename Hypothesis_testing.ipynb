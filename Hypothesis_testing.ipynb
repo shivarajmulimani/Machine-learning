{
 "cells": [
  {
   "cell_type": "markdown",
   "id": "peripheral-inclusion",
   "metadata": {},
   "source": [
    "## Types of hypothesis test\n",
    "\n",
    "- T test\n",
    "    - continuous values attribute\n",
    "    - 1 sample T-test, Example - To test if there is a significant difference in population mean and sample mean.\n",
    "    - 2 sample T-test, Example - To test if there is a significant difference in two population attributes.\n",
    "- Chi square test\n",
    "    - Two categorical attributes.\n",
    "- ANOVA(Analysis of variance) test\n",
    "    - One categorical attribute, one numerical attribute\n",
    "    - Example - you want to check for each categorical variable, is there a change in numerical attribute."
   ]
  },
  {
   "cell_type": "markdown",
   "id": "ranking-general",
   "metadata": {},
   "source": [
    "### lets create some dataset"
   ]
  },
  {
   "cell_type": "code",
   "execution_count": 1,
   "id": "hollow-fourth",
   "metadata": {},
   "outputs": [],
   "source": [
    "import seaborn as sns\n",
    "import pandas as pd\n",
    "import numpy as np\n",
    "import scipy as sc\n",
    "# df=sns.load_dataset('tips')"
   ]
  },
  {
   "cell_type": "markdown",
   "id": "atlantic-preservation",
   "metadata": {},
   "source": [
    "### One sample T- test\n",
    "\n",
    "- Suppose we have BE college with 32 students, and I say CS branch students are youngest than all other branches.\n",
    "    - Here my alternative hypothesis is CS branch students are youngest\n",
    "    - My Null hypothesis is that, all students are of equal ages or there is no such alternative hypothesis."
   ]
  },
  {
   "cell_type": "code",
   "execution_count": 38,
   "id": "ethical-cemetery",
   "metadata": {},
   "outputs": [
    {
     "name": "stdout",
     "output_type": "stream",
     "text": [
      "30.34375 31.3\n"
     ]
    }
   ],
   "source": [
    "ages = [10,20,35,50,28,40,55,18,16,55,30,25,43,18,30,28,14,24,16,17,32,35,26,27,65,18,43,23,21,20,19,70]\n",
    "population_mean = np.mean(ages)\n",
    "\n",
    "# lets take a mean of CS branch students\n",
    "sample = np.random.choice(ages, 10)\n",
    "sample_mean = sample.mean()\n",
    "\n",
    "print(population_mean, sample_mean)"
   ]
  },
  {
   "cell_type": "code",
   "execution_count": 39,
   "id": "stock-flooring",
   "metadata": {},
   "outputs": [],
   "source": [
    "ttest, p_value = sc.stats.ttest_1samp(population_mean, sample_mean)"
   ]
  },
  {
   "cell_type": "code",
   "execution_count": 42,
   "id": "architectural-footwear",
   "metadata": {},
   "outputs": [],
   "source": [
    "# print(p_value)"
   ]
  },
  {
   "cell_type": "code",
   "execution_count": 41,
   "id": "happy-consolidation",
   "metadata": {},
   "outputs": [
    {
     "name": "stdout",
     "output_type": "stream",
     "text": [
      "we are accepting null hypothesis\n"
     ]
    }
   ],
   "source": [
    "if p_value < 0.05:    # alpha value is 0.05 or 5%\n",
    "    print(\" we are rejecting null hypothesis\")\n",
    "else:\n",
    "    print(\"we are accepting null hypothesis\")"
   ]
  },
  {
   "cell_type": "markdown",
   "id": "constant-andrew",
   "metadata": {},
   "source": [
    "### Two sample T-test\n",
    "- suppose you want to donate money to poor people, and you want income range of people to decide to whom you should donate.\n",
    "- And you tell two agencies to collect income range of people. And you have a doubt whether two groups have same pattern or not.\n",
    "- In such scenario we can conduct two sample T-test\n",
    "    - Null hypothesis - No majour difference in two groups of data\n",
    "    - Alternate hypothesis - there is some doubt on these two sample data"
   ]
  },
  {
   "cell_type": "code",
   "execution_count": 43,
   "id": "unusual-handy",
   "metadata": {},
   "outputs": [
    {
     "name": "stdout",
     "output_type": "stream",
     "text": [
      "12997.916666666666 16987.7\n"
     ]
    }
   ],
   "source": [
    "np.random.seed(12)\n",
    "group_a_income = sc.stats.poisson.rvs(loc=3000,mu=10000,size=60)\n",
    "group_b_income = sc.stats.poisson.rvs(loc=3000,mu=14000,size=60)\n",
    "print(group_a_income.mean(), group_b_income.mean())"
   ]
  },
  {
   "cell_type": "code",
   "execution_count": 44,
   "id": "serial-typing",
   "metadata": {},
   "outputs": [],
   "source": [
    "_, p_value = sc.stats.ttest_ind(a=group_a_income, b=group_b_income,equal_var=False)"
   ]
  },
  {
   "cell_type": "code",
   "execution_count": 45,
   "id": "confirmed-default",
   "metadata": {},
   "outputs": [
    {
     "name": "stdout",
     "output_type": "stream",
     "text": [
      " we are rejecting null hypothesis\n"
     ]
    }
   ],
   "source": [
    "if p_value < 0.05:    # alpha value is 0.05 or 5%\n",
    "    print(\" we are rejecting null hypothesis\")\n",
    "else:\n",
    "    print(\"we are accepting null hypothesis\")"
   ]
  },
  {
   "cell_type": "markdown",
   "id": "african-friendship",
   "metadata": {},
   "source": [
    "### ANOVA test (F-test)\n",
    "- It tells whether two or more groups are similar or not based on their mean similarity and f-score."
   ]
  },
  {
   "cell_type": "markdown",
   "id": "considerable-viewer",
   "metadata": {},
   "source": [
    "1. Example : null hypotheses, there is no significant change in tip values based on days"
   ]
  },
  {
   "cell_type": "code",
   "execution_count": 95,
   "id": "abandoned-pasta",
   "metadata": {},
   "outputs": [],
   "source": [
    "df=sns.load_dataset('tips')"
   ]
  },
  {
   "cell_type": "code",
   "execution_count": 96,
   "id": "printable-report",
   "metadata": {},
   "outputs": [
    {
     "data": {
      "text/plain": [
       "['Sun', 'Sat', 'Thur', 'Fri']\n",
       "Categories (4, object): ['Sun', 'Sat', 'Thur', 'Fri']"
      ]
     },
     "execution_count": 96,
     "metadata": {},
     "output_type": "execute_result"
    }
   ],
   "source": [
    "days = df['day'].unique()\n",
    "days"
   ]
  },
  {
   "cell_type": "code",
   "execution_count": 110,
   "id": "overhead-islam",
   "metadata": {},
   "outputs": [
    {
     "data": {
      "text/html": [
       "<style  type=\"text/css\" >\n",
       "#T_53ac2_row0_col0,#T_53ac2_row0_col3,#T_53ac2_row4_col0,#T_53ac2_row4_col1,#T_53ac2_row5_col1,#T_53ac2_row5_col2{\n",
       "            background-color:  #f7fbff;\n",
       "            color:  #000000;\n",
       "        }#T_53ac2_row0_col1,#T_53ac2_row2_col0,#T_53ac2_row2_col1,#T_53ac2_row3_col1{\n",
       "            background-color:  #eaf3fb;\n",
       "            color:  #000000;\n",
       "        }#T_53ac2_row0_col2{\n",
       "            background-color:  #f0f6fd;\n",
       "            color:  #000000;\n",
       "        }#T_53ac2_row1_col0,#T_53ac2_row1_col1,#T_53ac2_row1_col2,#T_53ac2_row1_col3{\n",
       "            background-color:  #08306b;\n",
       "            color:  #f1f1f1;\n",
       "        }#T_53ac2_row2_col2{\n",
       "            background-color:  #aacfe5;\n",
       "            color:  #000000;\n",
       "        }#T_53ac2_row2_col3{\n",
       "            background-color:  #9ac8e0;\n",
       "            color:  #000000;\n",
       "        }#T_53ac2_row3_col0{\n",
       "            background-color:  #e7f0fa;\n",
       "            color:  #000000;\n",
       "        }#T_53ac2_row3_col2{\n",
       "            background-color:  #c7dcef;\n",
       "            color:  #000000;\n",
       "        }#T_53ac2_row3_col3{\n",
       "            background-color:  #7ab6d9;\n",
       "            color:  #000000;\n",
       "        }#T_53ac2_row4_col2{\n",
       "            background-color:  #f4f9fe;\n",
       "            color:  #000000;\n",
       "        }#T_53ac2_row4_col3{\n",
       "            background-color:  #e8f1fa;\n",
       "            color:  #000000;\n",
       "        }#T_53ac2_row5_col0{\n",
       "            background-color:  #eff6fc;\n",
       "            color:  #000000;\n",
       "        }#T_53ac2_row5_col3{\n",
       "            background-color:  #f2f8fd;\n",
       "            color:  #000000;\n",
       "        }#T_53ac2_row6_col0,#T_53ac2_row6_col1{\n",
       "            background-color:  #d0e2f2;\n",
       "            color:  #000000;\n",
       "        }#T_53ac2_row6_col2{\n",
       "            background-color:  #bed8ec;\n",
       "            color:  #000000;\n",
       "        }#T_53ac2_row6_col3{\n",
       "            background-color:  #aed1e7;\n",
       "            color:  #000000;\n",
       "        }</style><table id=\"T_53ac2_\" ><thead>    <tr>        <th class=\"index_name level0\" >day</th>        <th class=\"col_heading level0 col0\" >Thur</th>        <th class=\"col_heading level0 col1\" >Fri</th>        <th class=\"col_heading level0 col2\" >Sat</th>        <th class=\"col_heading level0 col3\" >Sun</th>    </tr>    <tr>        <th class=\"index_name level0\" >size</th>        <th class=\"blank\" ></th>        <th class=\"blank\" ></th>        <th class=\"blank\" ></th>        <th class=\"blank\" ></th>    </tr></thead><tbody>\n",
       "                <tr>\n",
       "                        <th id=\"T_53ac2_level0_row0\" class=\"row_heading level0 row0\" >1</th>\n",
       "                        <td id=\"T_53ac2_row0_col0\" class=\"data row0 col0\" >1.000000</td>\n",
       "                        <td id=\"T_53ac2_row0_col1\" class=\"data row0 col1\" >1.000000</td>\n",
       "                        <td id=\"T_53ac2_row0_col2\" class=\"data row0 col2\" >2.000000</td>\n",
       "                        <td id=\"T_53ac2_row0_col3\" class=\"data row0 col3\" >0.000000</td>\n",
       "            </tr>\n",
       "            <tr>\n",
       "                        <th id=\"T_53ac2_level0_row1\" class=\"row_heading level0 row1\" >2</th>\n",
       "                        <td id=\"T_53ac2_row1_col0\" class=\"data row1 col0\" >48.000000</td>\n",
       "                        <td id=\"T_53ac2_row1_col1\" class=\"data row1 col1\" >16.000000</td>\n",
       "                        <td id=\"T_53ac2_row1_col2\" class=\"data row1 col2\" >53.000000</td>\n",
       "                        <td id=\"T_53ac2_row1_col3\" class=\"data row1 col3\" >39.000000</td>\n",
       "            </tr>\n",
       "            <tr>\n",
       "                        <th id=\"T_53ac2_level0_row2\" class=\"row_heading level0 row2\" >3</th>\n",
       "                        <td id=\"T_53ac2_row2_col0\" class=\"data row2 col0\" >4.000000</td>\n",
       "                        <td id=\"T_53ac2_row2_col1\" class=\"data row2 col1\" >1.000000</td>\n",
       "                        <td id=\"T_53ac2_row2_col2\" class=\"data row2 col2\" >18.000000</td>\n",
       "                        <td id=\"T_53ac2_row2_col3\" class=\"data row2 col3\" >15.000000</td>\n",
       "            </tr>\n",
       "            <tr>\n",
       "                        <th id=\"T_53ac2_level0_row3\" class=\"row_heading level0 row3\" >4</th>\n",
       "                        <td id=\"T_53ac2_row3_col0\" class=\"data row3 col0\" >5.000000</td>\n",
       "                        <td id=\"T_53ac2_row3_col1\" class=\"data row3 col1\" >1.000000</td>\n",
       "                        <td id=\"T_53ac2_row3_col2\" class=\"data row3 col2\" >13.000000</td>\n",
       "                        <td id=\"T_53ac2_row3_col3\" class=\"data row3 col3\" >18.000000</td>\n",
       "            </tr>\n",
       "            <tr>\n",
       "                        <th id=\"T_53ac2_level0_row4\" class=\"row_heading level0 row4\" >5</th>\n",
       "                        <td id=\"T_53ac2_row4_col0\" class=\"data row4 col0\" >1.000000</td>\n",
       "                        <td id=\"T_53ac2_row4_col1\" class=\"data row4 col1\" >0.000000</td>\n",
       "                        <td id=\"T_53ac2_row4_col2\" class=\"data row4 col2\" >1.000000</td>\n",
       "                        <td id=\"T_53ac2_row4_col3\" class=\"data row4 col3\" >3.000000</td>\n",
       "            </tr>\n",
       "            <tr>\n",
       "                        <th id=\"T_53ac2_level0_row5\" class=\"row_heading level0 row5\" >6</th>\n",
       "                        <td id=\"T_53ac2_row5_col0\" class=\"data row5 col0\" >3.000000</td>\n",
       "                        <td id=\"T_53ac2_row5_col1\" class=\"data row5 col1\" >0.000000</td>\n",
       "                        <td id=\"T_53ac2_row5_col2\" class=\"data row5 col2\" >0.000000</td>\n",
       "                        <td id=\"T_53ac2_row5_col3\" class=\"data row5 col3\" >1.000000</td>\n",
       "            </tr>\n",
       "            <tr>\n",
       "                        <th id=\"T_53ac2_level0_row6\" class=\"row_heading level0 row6\" >mean</th>\n",
       "                        <td id=\"T_53ac2_row6_col0\" class=\"data row6 col0\" >10.333333</td>\n",
       "                        <td id=\"T_53ac2_row6_col1\" class=\"data row6 col1\" >3.166667</td>\n",
       "                        <td id=\"T_53ac2_row6_col2\" class=\"data row6 col2\" >14.500000</td>\n",
       "                        <td id=\"T_53ac2_row6_col3\" class=\"data row6 col3\" >12.666667</td>\n",
       "            </tr>\n",
       "    </tbody></table>"
      ],
      "text/plain": [
       "<pandas.io.formats.style.Styler at 0x7f2527b32520>"
      ]
     },
     "execution_count": 110,
     "metadata": {},
     "output_type": "execute_result"
    }
   ],
   "source": [
    "size_day_d = {day:df['size'][df.day == day] for day in days}\n",
    "size_day = pd.crosstab(df['size'], df['day'])\n",
    "size_day.loc['mean'] = size_day.mean()\n",
    "size_day.style.background_gradient(cmap='Blues')"
   ]
  },
  {
   "cell_type": "code",
   "execution_count": 98,
   "id": "functioning-midnight",
   "metadata": {},
   "outputs": [],
   "source": [
    "F, p_value = sc.stats.f_oneway(size_day_d['Sun'], size_day_d['Sat'], size_day_d['Thur'], size_day_d['Fri'])"
   ]
  },
  {
   "cell_type": "code",
   "execution_count": 99,
   "id": "suffering-renaissance",
   "metadata": {},
   "outputs": [
    {
     "data": {
      "text/plain": [
       "0.006840567173057235"
      ]
     },
     "execution_count": 99,
     "metadata": {},
     "output_type": "execute_result"
    }
   ],
   "source": [
    "p_value"
   ]
  },
  {
   "cell_type": "code",
   "execution_count": 100,
   "id": "partial-brighton",
   "metadata": {},
   "outputs": [
    {
     "name": "stdout",
     "output_type": "stream",
     "text": [
      " we are rejecting null hypothesis\n"
     ]
    }
   ],
   "source": [
    "if p_value < 0.05:    # alpha value is 0.05 or 5%\n",
    "    print(\" we are rejecting null hypothesis\")\n",
    "else:\n",
    "    print(\"we are accepting null hypothesis\")"
   ]
  },
  {
   "cell_type": "code",
   "execution_count": null,
   "id": "silent-atlanta",
   "metadata": {},
   "outputs": [],
   "source": []
  },
  {
   "cell_type": "markdown",
   "id": "motivated-rough",
   "metadata": {},
   "source": [
    "2. Example : null hypotheses, there is no significant change in size values based on days"
   ]
  },
  {
   "cell_type": "code",
   "execution_count": 109,
   "id": "cheap-reporter",
   "metadata": {},
   "outputs": [
    {
     "data": {
      "text/html": [
       "<style  type=\"text/css\" >\n",
       "#T_95c44_row0_col0{\n",
       "            background-color:  #72b2d8;\n",
       "            color:  #000000;\n",
       "        }#T_95c44_row0_col1{\n",
       "            background-color:  #2b7bba;\n",
       "            color:  #000000;\n",
       "        }#T_95c44_row0_col2{\n",
       "            background-color:  #3a8ac2;\n",
       "            color:  #000000;\n",
       "        }#T_95c44_row0_col3,#T_95c44_row9_col2{\n",
       "            background-color:  #abd0e6;\n",
       "            color:  #000000;\n",
       "        }#T_95c44_row1_col0,#T_95c44_row1_col2,#T_95c44_row2_col1,#T_95c44_row2_col3{\n",
       "            background-color:  #08306b;\n",
       "            color:  #f1f1f1;\n",
       "        }#T_95c44_row1_col1{\n",
       "            background-color:  #539ecd;\n",
       "            color:  #000000;\n",
       "        }#T_95c44_row1_col3{\n",
       "            background-color:  #2373b6;\n",
       "            color:  #f1f1f1;\n",
       "        }#T_95c44_row2_col0,#T_95c44_row3_col3{\n",
       "            background-color:  #b8d5ea;\n",
       "            color:  #000000;\n",
       "        }#T_95c44_row2_col2{\n",
       "            background-color:  #083979;\n",
       "            color:  #f1f1f1;\n",
       "        }#T_95c44_row3_col0{\n",
       "            background-color:  #c3daee;\n",
       "            color:  #000000;\n",
       "        }#T_95c44_row3_col1{\n",
       "            background-color:  #89bedc;\n",
       "            color:  #000000;\n",
       "        }#T_95c44_row3_col2{\n",
       "            background-color:  #caddf0;\n",
       "            color:  #000000;\n",
       "        }#T_95c44_row4_col0{\n",
       "            background-color:  #ccdff1;\n",
       "            color:  #000000;\n",
       "        }#T_95c44_row4_col1,#T_95c44_row5_col1,#T_95c44_row6_col0,#T_95c44_row6_col1,#T_95c44_row6_col2,#T_95c44_row6_col3,#T_95c44_row7_col0,#T_95c44_row7_col1,#T_95c44_row7_col2,#T_95c44_row7_col3,#T_95c44_row8_col0,#T_95c44_row8_col1,#T_95c44_row8_col2,#T_95c44_row8_col3{\n",
       "            background-color:  #f7fbff;\n",
       "            color:  #000000;\n",
       "        }#T_95c44_row4_col2{\n",
       "            background-color:  #e0ecf8;\n",
       "            color:  #000000;\n",
       "        }#T_95c44_row4_col3{\n",
       "            background-color:  #a0cbe2;\n",
       "            color:  #000000;\n",
       "        }#T_95c44_row5_col0,#T_95c44_row5_col2{\n",
       "            background-color:  #f0f6fd;\n",
       "            color:  #000000;\n",
       "        }#T_95c44_row5_col3{\n",
       "            background-color:  #e9f2fa;\n",
       "            color:  #000000;\n",
       "        }#T_95c44_row9_col0{\n",
       "            background-color:  #c4daee;\n",
       "            color:  #000000;\n",
       "        }#T_95c44_row9_col1{\n",
       "            background-color:  #b5d4e9;\n",
       "            color:  #000000;\n",
       "        }#T_95c44_row9_col3{\n",
       "            background-color:  #b2d2e8;\n",
       "            color:  #000000;\n",
       "        }</style><table id=\"T_95c44_\" ><thead>    <tr>        <th class=\"index_name level0\" >day</th>        <th class=\"col_heading level0 col0\" >Thur</th>        <th class=\"col_heading level0 col1\" >Fri</th>        <th class=\"col_heading level0 col2\" >Sat</th>        <th class=\"col_heading level0 col3\" >Sun</th>    </tr>    <tr>        <th class=\"index_name level0\" >tip</th>        <th class=\"blank\" ></th>        <th class=\"blank\" ></th>        <th class=\"blank\" ></th>        <th class=\"blank\" ></th>    </tr></thead><tbody>\n",
       "                <tr>\n",
       "                        <th id=\"T_95c44_level0_row0\" class=\"row_heading level0 row0\" >1</th>\n",
       "                        <td id=\"T_95c44_row0_col0\" class=\"data row0 col0\" >13.000000</td>\n",
       "                        <td id=\"T_95c44_row0_col1\" class=\"data row0 col1\" >5.000000</td>\n",
       "                        <td id=\"T_95c44_row0_col2\" class=\"data row0 col2\" >18.000000</td>\n",
       "                        <td id=\"T_95c44_row0_col3\" class=\"data row0 col3\" >9.000000</td>\n",
       "            </tr>\n",
       "            <tr>\n",
       "                        <th id=\"T_95c44_level0_row1\" class=\"row_heading level0 row1\" >2</th>\n",
       "                        <td id=\"T_95c44_row1_col0\" class=\"data row1 col0\" >27.000000</td>\n",
       "                        <td id=\"T_95c44_row1_col1\" class=\"data row1 col1\" >4.000000</td>\n",
       "                        <td id=\"T_95c44_row1_col2\" class=\"data row1 col2\" >27.000000</td>\n",
       "                        <td id=\"T_95c44_row1_col3\" class=\"data row1 col3\" >20.000000</td>\n",
       "            </tr>\n",
       "            <tr>\n",
       "                        <th id=\"T_95c44_level0_row2\" class=\"row_heading level0 row2\" >3</th>\n",
       "                        <td id=\"T_95c44_row2_col0\" class=\"data row2 col0\" >8.000000</td>\n",
       "                        <td id=\"T_95c44_row2_col1\" class=\"data row2 col1\" >7.000000</td>\n",
       "                        <td id=\"T_95c44_row2_col2\" class=\"data row2 col2\" >26.000000</td>\n",
       "                        <td id=\"T_95c44_row2_col3\" class=\"data row2 col3\" >27.000000</td>\n",
       "            </tr>\n",
       "            <tr>\n",
       "                        <th id=\"T_95c44_level0_row3\" class=\"row_heading level0 row3\" >4</th>\n",
       "                        <td id=\"T_95c44_row3_col0\" class=\"data row3 col0\" >7.000000</td>\n",
       "                        <td id=\"T_95c44_row3_col1\" class=\"data row3 col1\" >3.000000</td>\n",
       "                        <td id=\"T_95c44_row3_col2\" class=\"data row3 col2\" >7.000000</td>\n",
       "                        <td id=\"T_95c44_row3_col3\" class=\"data row3 col3\" >8.000000</td>\n",
       "            </tr>\n",
       "            <tr>\n",
       "                        <th id=\"T_95c44_level0_row4\" class=\"row_heading level0 row4\" >5</th>\n",
       "                        <td id=\"T_95c44_row4_col0\" class=\"data row4 col0\" >6.000000</td>\n",
       "                        <td id=\"T_95c44_row4_col1\" class=\"data row4 col1\" >0.000000</td>\n",
       "                        <td id=\"T_95c44_row4_col2\" class=\"data row4 col2\" >4.000000</td>\n",
       "                        <td id=\"T_95c44_row4_col3\" class=\"data row4 col3\" >10.000000</td>\n",
       "            </tr>\n",
       "            <tr>\n",
       "                        <th id=\"T_95c44_level0_row5\" class=\"row_heading level0 row5\" >6</th>\n",
       "                        <td id=\"T_95c44_row5_col0\" class=\"data row5 col0\" >1.000000</td>\n",
       "                        <td id=\"T_95c44_row5_col1\" class=\"data row5 col1\" >0.000000</td>\n",
       "                        <td id=\"T_95c44_row5_col2\" class=\"data row5 col2\" >2.000000</td>\n",
       "                        <td id=\"T_95c44_row5_col3\" class=\"data row5 col3\" >2.000000</td>\n",
       "            </tr>\n",
       "            <tr>\n",
       "                        <th id=\"T_95c44_level0_row6\" class=\"row_heading level0 row6\" >7</th>\n",
       "                        <td id=\"T_95c44_row6_col0\" class=\"data row6 col0\" >0.000000</td>\n",
       "                        <td id=\"T_95c44_row6_col1\" class=\"data row6 col1\" >0.000000</td>\n",
       "                        <td id=\"T_95c44_row6_col2\" class=\"data row6 col2\" >1.000000</td>\n",
       "                        <td id=\"T_95c44_row6_col3\" class=\"data row6 col3\" >0.000000</td>\n",
       "            </tr>\n",
       "            <tr>\n",
       "                        <th id=\"T_95c44_level0_row7\" class=\"row_heading level0 row7\" >9</th>\n",
       "                        <td id=\"T_95c44_row7_col0\" class=\"data row7 col0\" >0.000000</td>\n",
       "                        <td id=\"T_95c44_row7_col1\" class=\"data row7 col1\" >0.000000</td>\n",
       "                        <td id=\"T_95c44_row7_col2\" class=\"data row7 col2\" >1.000000</td>\n",
       "                        <td id=\"T_95c44_row7_col3\" class=\"data row7 col3\" >0.000000</td>\n",
       "            </tr>\n",
       "            <tr>\n",
       "                        <th id=\"T_95c44_level0_row8\" class=\"row_heading level0 row8\" >10</th>\n",
       "                        <td id=\"T_95c44_row8_col0\" class=\"data row8 col0\" >0.000000</td>\n",
       "                        <td id=\"T_95c44_row8_col1\" class=\"data row8 col1\" >0.000000</td>\n",
       "                        <td id=\"T_95c44_row8_col2\" class=\"data row8 col2\" >1.000000</td>\n",
       "                        <td id=\"T_95c44_row8_col3\" class=\"data row8 col3\" >0.000000</td>\n",
       "            </tr>\n",
       "            <tr>\n",
       "                        <th id=\"T_95c44_level0_row9\" class=\"row_heading level0 row9\" >mean</th>\n",
       "                        <td id=\"T_95c44_row9_col0\" class=\"data row9 col0\" >6.888889</td>\n",
       "                        <td id=\"T_95c44_row9_col1\" class=\"data row9 col1\" >2.111111</td>\n",
       "                        <td id=\"T_95c44_row9_col2\" class=\"data row9 col2\" >9.666667</td>\n",
       "                        <td id=\"T_95c44_row9_col3\" class=\"data row9 col3\" >8.444444</td>\n",
       "            </tr>\n",
       "    </tbody></table>"
      ],
      "text/plain": [
       "<pandas.io.formats.style.Styler at 0x7f252792fa30>"
      ]
     },
     "execution_count": 109,
     "metadata": {},
     "output_type": "execute_result"
    }
   ],
   "source": [
    "tip_day_d = {day:df['tip'][df.day == day] for day in days}\n",
    "tip_day = pd.crosstab(df['tip'].astype(int), df['day'])\n",
    "tip_day.loc['mean'] = tip_day.mean()\n",
    "tip_day.style.background_gradient(cmap='Blues')"
   ]
  },
  {
   "cell_type": "code",
   "execution_count": 102,
   "id": "separate-savannah",
   "metadata": {},
   "outputs": [],
   "source": [
    "F, p_value = sc.stats.f_oneway(tip_day_d['Sun'], tip_day_d['Sat'], tip_day_d['Thur'], tip_day_d['Fri'])"
   ]
  },
  {
   "cell_type": "code",
   "execution_count": 103,
   "id": "wound-cardiff",
   "metadata": {},
   "outputs": [
    {
     "data": {
      "text/plain": [
       "0.1735885553040592"
      ]
     },
     "execution_count": 103,
     "metadata": {},
     "output_type": "execute_result"
    }
   ],
   "source": [
    "p_value"
   ]
  },
  {
   "cell_type": "code",
   "execution_count": 104,
   "id": "contained-annex",
   "metadata": {},
   "outputs": [
    {
     "name": "stdout",
     "output_type": "stream",
     "text": [
      "we are accepting null hypothesis\n"
     ]
    }
   ],
   "source": [
    "if p_value < 0.05:    # alpha value is 0.05 or 5%\n",
    "    print(\" we are rejecting null hypothesis\")\n",
    "else:\n",
    "    print(\"we are accepting null hypothesis\")"
   ]
  },
  {
   "cell_type": "code",
   "execution_count": null,
   "id": "surprised-found",
   "metadata": {},
   "outputs": [],
   "source": []
  }
 ],
 "metadata": {
  "kernelspec": {
   "display_name": "Python 3 (ipykernel)",
   "language": "python",
   "name": "python3"
  },
  "language_info": {
   "codemirror_mode": {
    "name": "ipython",
    "version": 3
   },
   "file_extension": ".py",
   "mimetype": "text/x-python",
   "name": "python",
   "nbconvert_exporter": "python",
   "pygments_lexer": "ipython3",
   "version": "3.8.5"
  }
 },
 "nbformat": 4,
 "nbformat_minor": 5
}
