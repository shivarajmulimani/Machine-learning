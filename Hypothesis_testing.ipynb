{
 "cells": [
  {
   "cell_type": "markdown",
   "id": "confirmed-hepatitis",
   "metadata": {},
   "source": [
    "## Types of hypothesis test\n",
    "\n",
    "- **T test**\n",
    "    - continuous values attribute.\n",
    "    - One sample T-test, Example - To test if there is a significant difference in population mean and sample mean.\n",
    "    - Two sample T-test, Example - To test if there is a significant difference in two population attributes.\n",
    "    \n",
    "- **ANOVA(Analysis of variance) test**\n",
    "    - One categorical attribute, one numerical attribute\n",
    "    - Example - you want to check for each categorical variable, is there a change in continuous numerical attribute.\n",
    "    \n",
    "- **Chi square test**\n",
    "    - It's used when data is categorical and works on principle of likelyhood.\n",
    "    - Example - testing whether the categorical attribute has correlation with categorical target."
   ]
  },
  {
   "cell_type": "markdown",
   "id": "fatal-governor",
   "metadata": {},
   "source": [
    "### lets create some dataset"
   ]
  },
  {
   "cell_type": "code",
   "execution_count": 1,
   "id": "seventh-maria",
   "metadata": {},
   "outputs": [],
   "source": [
    "import seaborn as sns\n",
    "import pandas as pd\n",
    "import numpy as np\n",
    "import scipy as sc\n",
    "# df=sns.load_dataset('tips')"
   ]
  },
  {
   "cell_type": "markdown",
   "id": "everyday-allowance",
   "metadata": {},
   "source": [
    "### One sample T- test\n",
    "\n",
    "- Suppose we have BE college with 32 students, and I say CS branch students are youngest than all other branches.\n",
    "    - Here my alternative hypothesis is CS branch students are youngest\n",
    "    - My Null hypothesis is that, all students are of equal ages or there is no such alternative hypothesis."
   ]
  },
  {
   "cell_type": "code",
   "execution_count": 114,
   "id": "assisted-queensland",
   "metadata": {},
   "outputs": [
    {
     "name": "stdout",
     "output_type": "stream",
     "text": [
      "30.34375 34.3\n"
     ]
    }
   ],
   "source": [
    "ages = [10,20,35,50,28,40,55,18,16,55,30,25,43,18,30,28,14,24,16,17,32,35,26,27,65,18,43,23,21,20,19,70]\n",
    "population_mean = np.mean(ages)\n",
    "\n",
    "# lets take a mean of CS branch students\n",
    "sample = np.random.choice(ages, 10)\n",
    "sample_mean = sample.mean()\n",
    "\n",
    "print(population_mean, sample_mean)"
   ]
  },
  {
   "cell_type": "code",
   "execution_count": 115,
   "id": "related-juice",
   "metadata": {},
   "outputs": [],
   "source": [
    "ttest, p_value = sc.stats.ttest_1samp(population_mean, sample_mean)"
   ]
  },
  {
   "cell_type": "code",
   "execution_count": 117,
   "id": "bigger-charles",
   "metadata": {},
   "outputs": [],
   "source": [
    "# print(p_value)"
   ]
  },
  {
   "cell_type": "code",
   "execution_count": 118,
   "id": "random-photography",
   "metadata": {},
   "outputs": [
    {
     "name": "stdout",
     "output_type": "stream",
     "text": [
      "we are accepting null hypothesis\n"
     ]
    }
   ],
   "source": [
    "if p_value < 0.05:    # alpha value is 0.05 or 5%\n",
    "    print(\" we are rejecting null hypothesis\")\n",
    "else:\n",
    "    print(\"we are accepting null hypothesis\")"
   ]
  },
  {
   "cell_type": "markdown",
   "id": "killing-cowboy",
   "metadata": {},
   "source": [
    "### Two sample T-test\n",
    "- suppose you want to donate money to poor people, and you want income range of people to decide to whom you should donate.\n",
    "- And you tell two agencies to collect income range of people. And you have a doubt whether two groups have same pattern or not.\n",
    "- In such scenario we can conduct two sample T-test\n",
    "    - Null hypothesis - No majour difference in two groups of data\n",
    "    - Alternate hypothesis - there is some doubt on these two sample data"
   ]
  },
  {
   "cell_type": "code",
   "execution_count": 185,
   "id": "speaking-monte",
   "metadata": {},
   "outputs": [
    {
     "name": "stdout",
     "output_type": "stream",
     "text": [
      "12997.916666666666 16987.7\n"
     ]
    }
   ],
   "source": [
    "np.random.seed(12)\n",
    "group_a_income = sc.stats.poisson.rvs(loc=3000,mu=10000,size=60)\n",
    "group_b_income = sc.stats.poisson.rvs(loc=3000,mu=14000,size=60)\n",
    "print(group_a_income.mean(), group_b_income.mean())"
   ]
  },
  {
   "cell_type": "code",
   "execution_count": 186,
   "id": "random-checklist",
   "metadata": {},
   "outputs": [],
   "source": [
    "_, p_value = sc.stats.ttest_ind(a=group_a_income, b=group_b_income,equal_var=False)"
   ]
  },
  {
   "cell_type": "code",
   "execution_count": 187,
   "id": "monthly-laptop",
   "metadata": {},
   "outputs": [
    {
     "name": "stdout",
     "output_type": "stream",
     "text": [
      " we are rejecting null hypothesis because p_values is 4.471212473417163e-155\n"
     ]
    }
   ],
   "source": [
    "if p_value < 0.05:    # alpha value is 0.05 or 5%\n",
    "    print(\" we are rejecting null hypothesis because p_values is {}\".format(p_value))\n",
    "else:\n",
    "    print(\"we are accepting null hypothesis because p_values is {}\".format(p_value))"
   ]
  },
  {
   "cell_type": "markdown",
   "id": "fewer-origin",
   "metadata": {},
   "source": [
    "### ANOVA test (F-test)\n",
    "- It tells whether two or more groups are similar or not based on their mean similarity and f-score."
   ]
  },
  {
   "cell_type": "markdown",
   "id": "homeless-university",
   "metadata": {},
   "source": [
    "#### 1. Example : \n",
    "#### null hypotheses, there is no significant change in tip values based on days\n",
    "#### Alternative hypothesis, there is a change in tip values based on days"
   ]
  },
  {
   "cell_type": "code",
   "execution_count": 235,
   "id": "nasty-hands",
   "metadata": {},
   "outputs": [
    {
     "data": {
      "text/html": [
       "<div>\n",
       "<style scoped>\n",
       "    .dataframe tbody tr th:only-of-type {\n",
       "        vertical-align: middle;\n",
       "    }\n",
       "\n",
       "    .dataframe tbody tr th {\n",
       "        vertical-align: top;\n",
       "    }\n",
       "\n",
       "    .dataframe thead th {\n",
       "        text-align: right;\n",
       "    }\n",
       "</style>\n",
       "<table border=\"1\" class=\"dataframe\">\n",
       "  <thead>\n",
       "    <tr style=\"text-align: right;\">\n",
       "      <th></th>\n",
       "      <th>total_bill</th>\n",
       "      <th>tip</th>\n",
       "      <th>sex</th>\n",
       "      <th>smoker</th>\n",
       "      <th>day</th>\n",
       "      <th>time</th>\n",
       "      <th>size</th>\n",
       "    </tr>\n",
       "  </thead>\n",
       "  <tbody>\n",
       "    <tr>\n",
       "      <th>0</th>\n",
       "      <td>16.99</td>\n",
       "      <td>1.01</td>\n",
       "      <td>Female</td>\n",
       "      <td>No</td>\n",
       "      <td>Sun</td>\n",
       "      <td>Dinner</td>\n",
       "      <td>2</td>\n",
       "    </tr>\n",
       "    <tr>\n",
       "      <th>1</th>\n",
       "      <td>10.34</td>\n",
       "      <td>1.66</td>\n",
       "      <td>Male</td>\n",
       "      <td>No</td>\n",
       "      <td>Sun</td>\n",
       "      <td>Dinner</td>\n",
       "      <td>3</td>\n",
       "    </tr>\n",
       "    <tr>\n",
       "      <th>2</th>\n",
       "      <td>21.01</td>\n",
       "      <td>3.50</td>\n",
       "      <td>Male</td>\n",
       "      <td>No</td>\n",
       "      <td>Sun</td>\n",
       "      <td>Dinner</td>\n",
       "      <td>3</td>\n",
       "    </tr>\n",
       "    <tr>\n",
       "      <th>3</th>\n",
       "      <td>23.68</td>\n",
       "      <td>3.31</td>\n",
       "      <td>Male</td>\n",
       "      <td>No</td>\n",
       "      <td>Sun</td>\n",
       "      <td>Dinner</td>\n",
       "      <td>2</td>\n",
       "    </tr>\n",
       "    <tr>\n",
       "      <th>4</th>\n",
       "      <td>24.59</td>\n",
       "      <td>3.61</td>\n",
       "      <td>Female</td>\n",
       "      <td>No</td>\n",
       "      <td>Sun</td>\n",
       "      <td>Dinner</td>\n",
       "      <td>4</td>\n",
       "    </tr>\n",
       "  </tbody>\n",
       "</table>\n",
       "</div>"
      ],
      "text/plain": [
       "   total_bill   tip     sex smoker  day    time  size\n",
       "0       16.99  1.01  Female     No  Sun  Dinner     2\n",
       "1       10.34  1.66    Male     No  Sun  Dinner     3\n",
       "2       21.01  3.50    Male     No  Sun  Dinner     3\n",
       "3       23.68  3.31    Male     No  Sun  Dinner     2\n",
       "4       24.59  3.61  Female     No  Sun  Dinner     4"
      ]
     },
     "execution_count": 235,
     "metadata": {},
     "output_type": "execute_result"
    }
   ],
   "source": [
    "df=sns.load_dataset('tips')\n",
    "df.head()"
   ]
  },
  {
   "cell_type": "code",
   "execution_count": 236,
   "id": "parental-kingston",
   "metadata": {},
   "outputs": [
    {
     "data": {
      "text/plain": [
       "['Sun', 'Sat', 'Thur', 'Fri']\n",
       "Categories (4, object): ['Sun', 'Sat', 'Thur', 'Fri']"
      ]
     },
     "execution_count": 236,
     "metadata": {},
     "output_type": "execute_result"
    }
   ],
   "source": [
    "days = df['day'].unique()\n",
    "days"
   ]
  },
  {
   "cell_type": "code",
   "execution_count": 237,
   "id": "tired-wallet",
   "metadata": {},
   "outputs": [
    {
     "data": {
      "text/plain": [
       "<AxesSubplot:xlabel='day', ylabel='size'>"
      ]
     },
     "execution_count": 237,
     "metadata": {},
     "output_type": "execute_result"
    },
    {
     "data": {
      "image/png": "[encoded data removed]",
      "text/plain": [
       "<Figure size 432x288 with 1 Axes>"
      ]
     },
     "metadata": {
      "needs_background": "light"
     },
     "output_type": "display_data"
    }
   ],
   "source": [
    "sns.boxplot(x='day', y='size', data=df, color='#99c2a2')"
   ]
  },
  {
   "cell_type": "code",
   "execution_count": 225,
   "id": "shaped-exclusion",
   "metadata": {},
   "outputs": [
    {
     "data": {
      "text/html": [
       "<style  type=\"text/css\" >\n",
       "#T_ab3bd_row0_col0,#T_ab3bd_row0_col3,#T_ab3bd_row4_col0,#T_ab3bd_row4_col1,#T_ab3bd_row5_col1,#T_ab3bd_row5_col2{\n",
       "            background-color:  #f7fbff;\n",
       "            color:  #000000;\n",
       "        }#T_ab3bd_row0_col1,#T_ab3bd_row2_col0,#T_ab3bd_row2_col1,#T_ab3bd_row3_col1{\n",
       "            background-color:  #eaf3fb;\n",
       "            color:  #000000;\n",
       "        }#T_ab3bd_row0_col2{\n",
       "            background-color:  #f0f6fd;\n",
       "            color:  #000000;\n",
       "        }#T_ab3bd_row1_col0,#T_ab3bd_row1_col1,#T_ab3bd_row1_col2,#T_ab3bd_row1_col3{\n",
       "            background-color:  #08306b;\n",
       "            color:  #f1f1f1;\n",
       "        }#T_ab3bd_row2_col2{\n",
       "            background-color:  #aacfe5;\n",
       "            color:  #000000;\n",
       "        }#T_ab3bd_row2_col3{\n",
       "            background-color:  #9ac8e0;\n",
       "            color:  #000000;\n",
       "        }#T_ab3bd_row3_col0{\n",
       "            background-color:  #e7f0fa;\n",
       "            color:  #000000;\n",
       "        }#T_ab3bd_row3_col2{\n",
       "            background-color:  #c7dcef;\n",
       "            color:  #000000;\n",
       "        }#T_ab3bd_row3_col3{\n",
       "            background-color:  #7ab6d9;\n",
       "            color:  #000000;\n",
       "        }#T_ab3bd_row4_col2{\n",
       "            background-color:  #f4f9fe;\n",
       "            color:  #000000;\n",
       "        }#T_ab3bd_row4_col3{\n",
       "            background-color:  #e8f1fa;\n",
       "            color:  #000000;\n",
       "        }#T_ab3bd_row5_col0{\n",
       "            background-color:  #eff6fc;\n",
       "            color:  #000000;\n",
       "        }#T_ab3bd_row5_col3{\n",
       "            background-color:  #f2f8fd;\n",
       "            color:  #000000;\n",
       "        }#T_ab3bd_row6_col0,#T_ab3bd_row6_col1{\n",
       "            background-color:  #d0e2f2;\n",
       "            color:  #000000;\n",
       "        }#T_ab3bd_row6_col2{\n",
       "            background-color:  #bed8ec;\n",
       "            color:  #000000;\n",
       "        }#T_ab3bd_row6_col3{\n",
       "            background-color:  #aed1e7;\n",
       "            color:  #000000;\n",
       "        }</style><table id=\"T_ab3bd_\" ><thead>    <tr>        <th class=\"index_name level0\" >day</th>        <th class=\"col_heading level0 col0\" >Thur</th>        <th class=\"col_heading level0 col1\" >Fri</th>        <th class=\"col_heading level0 col2\" >Sat</th>        <th class=\"col_heading level0 col3\" >Sun</th>    </tr>    <tr>        <th class=\"index_name level0\" >size</th>        <th class=\"blank\" ></th>        <th class=\"blank\" ></th>        <th class=\"blank\" ></th>        <th class=\"blank\" ></th>    </tr></thead><tbody>\n",
       "                <tr>\n",
       "                        <th id=\"T_ab3bd_level0_row0\" class=\"row_heading level0 row0\" >1</th>\n",
       "                        <td id=\"T_ab3bd_row0_col0\" class=\"data row0 col0\" >1.000000</td>\n",
       "                        <td id=\"T_ab3bd_row0_col1\" class=\"data row0 col1\" >1.000000</td>\n",
       "                        <td id=\"T_ab3bd_row0_col2\" class=\"data row0 col2\" >2.000000</td>\n",
       "                        <td id=\"T_ab3bd_row0_col3\" class=\"data row0 col3\" >0.000000</td>\n",
       "            </tr>\n",
       "            <tr>\n",
       "                        <th id=\"T_ab3bd_level0_row1\" class=\"row_heading level0 row1\" >2</th>\n",
       "                        <td id=\"T_ab3bd_row1_col0\" class=\"data row1 col0\" >48.000000</td>\n",
       "                        <td id=\"T_ab3bd_row1_col1\" class=\"data row1 col1\" >16.000000</td>\n",
       "                        <td id=\"T_ab3bd_row1_col2\" class=\"data row1 col2\" >53.000000</td>\n",
       "                        <td id=\"T_ab3bd_row1_col3\" class=\"data row1 col3\" >39.000000</td>\n",
       "            </tr>\n",
       "            <tr>\n",
       "                        <th id=\"T_ab3bd_level0_row2\" class=\"row_heading level0 row2\" >3</th>\n",
       "                        <td id=\"T_ab3bd_row2_col0\" class=\"data row2 col0\" >4.000000</td>\n",
       "                        <td id=\"T_ab3bd_row2_col1\" class=\"data row2 col1\" >1.000000</td>\n",
       "                        <td id=\"T_ab3bd_row2_col2\" class=\"data row2 col2\" >18.000000</td>\n",
       "                        <td id=\"T_ab3bd_row2_col3\" class=\"data row2 col3\" >15.000000</td>\n",
       "            </tr>\n",
       "            <tr>\n",
       "                        <th id=\"T_ab3bd_level0_row3\" class=\"row_heading level0 row3\" >4</th>\n",
       "                        <td id=\"T_ab3bd_row3_col0\" class=\"data row3 col0\" >5.000000</td>\n",
       "                        <td id=\"T_ab3bd_row3_col1\" class=\"data row3 col1\" >1.000000</td>\n",
       "                        <td id=\"T_ab3bd_row3_col2\" class=\"data row3 col2\" >13.000000</td>\n",
       "                        <td id=\"T_ab3bd_row3_col3\" class=\"data row3 col3\" >18.000000</td>\n",
       "            </tr>\n",
       "            <tr>\n",
       "                        <th id=\"T_ab3bd_level0_row4\" class=\"row_heading level0 row4\" >5</th>\n",
       "                        <td id=\"T_ab3bd_row4_col0\" class=\"data row4 col0\" >1.000000</td>\n",
       "                        <td id=\"T_ab3bd_row4_col1\" class=\"data row4 col1\" >0.000000</td>\n",
       "                        <td id=\"T_ab3bd_row4_col2\" class=\"data row4 col2\" >1.000000</td>\n",
       "                        <td id=\"T_ab3bd_row4_col3\" class=\"data row4 col3\" >3.000000</td>\n",
       "            </tr>\n",
       "            <tr>\n",
       "                        <th id=\"T_ab3bd_level0_row5\" class=\"row_heading level0 row5\" >6</th>\n",
       "                        <td id=\"T_ab3bd_row5_col0\" class=\"data row5 col0\" >3.000000</td>\n",
       "                        <td id=\"T_ab3bd_row5_col1\" class=\"data row5 col1\" >0.000000</td>\n",
       "                        <td id=\"T_ab3bd_row5_col2\" class=\"data row5 col2\" >0.000000</td>\n",
       "                        <td id=\"T_ab3bd_row5_col3\" class=\"data row5 col3\" >1.000000</td>\n",
       "            </tr>\n",
       "            <tr>\n",
       "                        <th id=\"T_ab3bd_level0_row6\" class=\"row_heading level0 row6\" >mean</th>\n",
       "                        <td id=\"T_ab3bd_row6_col0\" class=\"data row6 col0\" >10.333333</td>\n",
       "                        <td id=\"T_ab3bd_row6_col1\" class=\"data row6 col1\" >3.166667</td>\n",
       "                        <td id=\"T_ab3bd_row6_col2\" class=\"data row6 col2\" >14.500000</td>\n",
       "                        <td id=\"T_ab3bd_row6_col3\" class=\"data row6 col3\" >12.666667</td>\n",
       "            </tr>\n",
       "    </tbody></table>"
      ],
      "text/plain": [
       "<pandas.io.formats.style.Styler at 0x7f2524e0f460>"
      ]
     },
     "execution_count": 225,
     "metadata": {},
     "output_type": "execute_result"
    }
   ],
   "source": [
    "size_day = pd.crosstab(df['size'], df['day'])\n",
    "size_day.loc['mean'] = size_day.mean()\n",
    "size_day.style.background_gradient(cmap='Blues')"
   ]
  },
  {
   "cell_type": "code",
   "execution_count": 233,
   "id": "cardiac-charles",
   "metadata": {},
   "outputs": [],
   "source": [
    "F, p_value = sc.stats.f_oneway(df['tip'][df['day']=='Thur'].values,\n",
    "                               df['tip'][df['day']=='Fri'].values,\n",
    "                               df['tip'][df['day']=='Sat'].values,\n",
    "                               df['tip'][df['day']=='Sun'].values)"
   ]
  },
  {
   "cell_type": "code",
   "execution_count": 234,
   "id": "typical-click",
   "metadata": {},
   "outputs": [
    {
     "name": "stdout",
     "output_type": "stream",
     "text": [
      "we are accepting null hypothesis because p_values is 0.1735885553040592\n"
     ]
    }
   ],
   "source": [
    "if p_value < 0.05:    # alpha value is 0.05 or 5%\n",
    "    print(\" we are rejecting null hypothesis because p_values is {}\".format(p_value))\n",
    "else:\n",
    "    print(\"we are accepting null hypothesis because p_values is {}\".format(p_value))"
   ]
  },
  {
   "cell_type": "code",
   "execution_count": null,
   "id": "stretch-management",
   "metadata": {},
   "outputs": [],
   "source": []
  },
  {
   "cell_type": "markdown",
   "id": "individual-algebra",
   "metadata": {},
   "source": [
    "#### 2. Example :\n",
    "#### null hypotheses, there is no significant change in size values based on days.\n",
    "#### Alternative hypothesis, there is change in size values based on days."
   ]
  },
  {
   "cell_type": "code",
   "execution_count": 242,
   "id": "streaming-badge",
   "metadata": {},
   "outputs": [
    {
     "data": {
      "text/plain": [
       "<AxesSubplot:xlabel='day', ylabel='tip'>"
      ]
     },
     "execution_count": 242,
     "metadata": {},
     "output_type": "execute_result"
    },
    {
     "data": {
      "image/png": "[encoded data removed]",
      "text/plain": [
       "<Figure size 432x288 with 1 Axes>"
      ]
     },
     "metadata": {
      "needs_background": "light"
     },
     "output_type": "display_data"
    }
   ],
   "source": [
    "sns.boxplot(x='day', y='tip', data=df, color='#99c2a2')"
   ]
  },
  {
   "cell_type": "code",
   "execution_count": 243,
   "id": "leading-controversy",
   "metadata": {},
   "outputs": [
    {
     "data": {
      "text/html": [
       "<style  type=\"text/css\" >\n",
       "#T_00e9b_row0_col0{\n",
       "            background-color:  #72b2d8;\n",
       "            color:  #000000;\n",
       "        }#T_00e9b_row0_col1{\n",
       "            background-color:  #2b7bba;\n",
       "            color:  #000000;\n",
       "        }#T_00e9b_row0_col2{\n",
       "            background-color:  #3a8ac2;\n",
       "            color:  #000000;\n",
       "        }#T_00e9b_row0_col3,#T_00e9b_row9_col2{\n",
       "            background-color:  #abd0e6;\n",
       "            color:  #000000;\n",
       "        }#T_00e9b_row1_col0,#T_00e9b_row1_col2,#T_00e9b_row2_col1,#T_00e9b_row2_col3{\n",
       "            background-color:  #08306b;\n",
       "            color:  #f1f1f1;\n",
       "        }#T_00e9b_row1_col1{\n",
       "            background-color:  #539ecd;\n",
       "            color:  #000000;\n",
       "        }#T_00e9b_row1_col3{\n",
       "            background-color:  #2373b6;\n",
       "            color:  #f1f1f1;\n",
       "        }#T_00e9b_row2_col0,#T_00e9b_row3_col3{\n",
       "            background-color:  #b8d5ea;\n",
       "            color:  #000000;\n",
       "        }#T_00e9b_row2_col2{\n",
       "            background-color:  #083979;\n",
       "            color:  #f1f1f1;\n",
       "        }#T_00e9b_row3_col0{\n",
       "            background-color:  #c3daee;\n",
       "            color:  #000000;\n",
       "        }#T_00e9b_row3_col1{\n",
       "            background-color:  #89bedc;\n",
       "            color:  #000000;\n",
       "        }#T_00e9b_row3_col2{\n",
       "            background-color:  #caddf0;\n",
       "            color:  #000000;\n",
       "        }#T_00e9b_row4_col0{\n",
       "            background-color:  #ccdff1;\n",
       "            color:  #000000;\n",
       "        }#T_00e9b_row4_col1,#T_00e9b_row5_col1,#T_00e9b_row6_col0,#T_00e9b_row6_col1,#T_00e9b_row6_col2,#T_00e9b_row6_col3,#T_00e9b_row7_col0,#T_00e9b_row7_col1,#T_00e9b_row7_col2,#T_00e9b_row7_col3,#T_00e9b_row8_col0,#T_00e9b_row8_col1,#T_00e9b_row8_col2,#T_00e9b_row8_col3{\n",
       "            background-color:  #f7fbff;\n",
       "            color:  #000000;\n",
       "        }#T_00e9b_row4_col2{\n",
       "            background-color:  #e0ecf8;\n",
       "            color:  #000000;\n",
       "        }#T_00e9b_row4_col3{\n",
       "            background-color:  #a0cbe2;\n",
       "            color:  #000000;\n",
       "        }#T_00e9b_row5_col0,#T_00e9b_row5_col2{\n",
       "            background-color:  #f0f6fd;\n",
       "            color:  #000000;\n",
       "        }#T_00e9b_row5_col3{\n",
       "            background-color:  #e9f2fa;\n",
       "            color:  #000000;\n",
       "        }#T_00e9b_row9_col0{\n",
       "            background-color:  #c4daee;\n",
       "            color:  #000000;\n",
       "        }#T_00e9b_row9_col1{\n",
       "            background-color:  #b5d4e9;\n",
       "            color:  #000000;\n",
       "        }#T_00e9b_row9_col3{\n",
       "            background-color:  #b2d2e8;\n",
       "            color:  #000000;\n",
       "        }</style><table id=\"T_00e9b_\" ><thead>    <tr>        <th class=\"index_name level0\" >day</th>        <th class=\"col_heading level0 col0\" >Thur</th>        <th class=\"col_heading level0 col1\" >Fri</th>        <th class=\"col_heading level0 col2\" >Sat</th>        <th class=\"col_heading level0 col3\" >Sun</th>    </tr>    <tr>        <th class=\"index_name level0\" >tip</th>        <th class=\"blank\" ></th>        <th class=\"blank\" ></th>        <th class=\"blank\" ></th>        <th class=\"blank\" ></th>    </tr></thead><tbody>\n",
       "                <tr>\n",
       "                        <th id=\"T_00e9b_level0_row0\" class=\"row_heading level0 row0\" >1</th>\n",
       "                        <td id=\"T_00e9b_row0_col0\" class=\"data row0 col0\" >13.000000</td>\n",
       "                        <td id=\"T_00e9b_row0_col1\" class=\"data row0 col1\" >5.000000</td>\n",
       "                        <td id=\"T_00e9b_row0_col2\" class=\"data row0 col2\" >18.000000</td>\n",
       "                        <td id=\"T_00e9b_row0_col3\" class=\"data row0 col3\" >9.000000</td>\n",
       "            </tr>\n",
       "            <tr>\n",
       "                        <th id=\"T_00e9b_level0_row1\" class=\"row_heading level0 row1\" >2</th>\n",
       "                        <td id=\"T_00e9b_row1_col0\" class=\"data row1 col0\" >27.000000</td>\n",
       "                        <td id=\"T_00e9b_row1_col1\" class=\"data row1 col1\" >4.000000</td>\n",
       "                        <td id=\"T_00e9b_row1_col2\" class=\"data row1 col2\" >27.000000</td>\n",
       "                        <td id=\"T_00e9b_row1_col3\" class=\"data row1 col3\" >20.000000</td>\n",
       "            </tr>\n",
       "            <tr>\n",
       "                        <th id=\"T_00e9b_level0_row2\" class=\"row_heading level0 row2\" >3</th>\n",
       "                        <td id=\"T_00e9b_row2_col0\" class=\"data row2 col0\" >8.000000</td>\n",
       "                        <td id=\"T_00e9b_row2_col1\" class=\"data row2 col1\" >7.000000</td>\n",
       "                        <td id=\"T_00e9b_row2_col2\" class=\"data row2 col2\" >26.000000</td>\n",
       "                        <td id=\"T_00e9b_row2_col3\" class=\"data row2 col3\" >27.000000</td>\n",
       "            </tr>\n",
       "            <tr>\n",
       "                        <th id=\"T_00e9b_level0_row3\" class=\"row_heading level0 row3\" >4</th>\n",
       "                        <td id=\"T_00e9b_row3_col0\" class=\"data row3 col0\" >7.000000</td>\n",
       "                        <td id=\"T_00e9b_row3_col1\" class=\"data row3 col1\" >3.000000</td>\n",
       "                        <td id=\"T_00e9b_row3_col2\" class=\"data row3 col2\" >7.000000</td>\n",
       "                        <td id=\"T_00e9b_row3_col3\" class=\"data row3 col3\" >8.000000</td>\n",
       "            </tr>\n",
       "            <tr>\n",
       "                        <th id=\"T_00e9b_level0_row4\" class=\"row_heading level0 row4\" >5</th>\n",
       "                        <td id=\"T_00e9b_row4_col0\" class=\"data row4 col0\" >6.000000</td>\n",
       "                        <td id=\"T_00e9b_row4_col1\" class=\"data row4 col1\" >0.000000</td>\n",
       "                        <td id=\"T_00e9b_row4_col2\" class=\"data row4 col2\" >4.000000</td>\n",
       "                        <td id=\"T_00e9b_row4_col3\" class=\"data row4 col3\" >10.000000</td>\n",
       "            </tr>\n",
       "            <tr>\n",
       "                        <th id=\"T_00e9b_level0_row5\" class=\"row_heading level0 row5\" >6</th>\n",
       "                        <td id=\"T_00e9b_row5_col0\" class=\"data row5 col0\" >1.000000</td>\n",
       "                        <td id=\"T_00e9b_row5_col1\" class=\"data row5 col1\" >0.000000</td>\n",
       "                        <td id=\"T_00e9b_row5_col2\" class=\"data row5 col2\" >2.000000</td>\n",
       "                        <td id=\"T_00e9b_row5_col3\" class=\"data row5 col3\" >2.000000</td>\n",
       "            </tr>\n",
       "            <tr>\n",
       "                        <th id=\"T_00e9b_level0_row6\" class=\"row_heading level0 row6\" >7</th>\n",
       "                        <td id=\"T_00e9b_row6_col0\" class=\"data row6 col0\" >0.000000</td>\n",
       "                        <td id=\"T_00e9b_row6_col1\" class=\"data row6 col1\" >0.000000</td>\n",
       "                        <td id=\"T_00e9b_row6_col2\" class=\"data row6 col2\" >1.000000</td>\n",
       "                        <td id=\"T_00e9b_row6_col3\" class=\"data row6 col3\" >0.000000</td>\n",
       "            </tr>\n",
       "            <tr>\n",
       "                        <th id=\"T_00e9b_level0_row7\" class=\"row_heading level0 row7\" >9</th>\n",
       "                        <td id=\"T_00e9b_row7_col0\" class=\"data row7 col0\" >0.000000</td>\n",
       "                        <td id=\"T_00e9b_row7_col1\" class=\"data row7 col1\" >0.000000</td>\n",
       "                        <td id=\"T_00e9b_row7_col2\" class=\"data row7 col2\" >1.000000</td>\n",
       "                        <td id=\"T_00e9b_row7_col3\" class=\"data row7 col3\" >0.000000</td>\n",
       "            </tr>\n",
       "            <tr>\n",
       "                        <th id=\"T_00e9b_level0_row8\" class=\"row_heading level0 row8\" >10</th>\n",
       "                        <td id=\"T_00e9b_row8_col0\" class=\"data row8 col0\" >0.000000</td>\n",
       "                        <td id=\"T_00e9b_row8_col1\" class=\"data row8 col1\" >0.000000</td>\n",
       "                        <td id=\"T_00e9b_row8_col2\" class=\"data row8 col2\" >1.000000</td>\n",
       "                        <td id=\"T_00e9b_row8_col3\" class=\"data row8 col3\" >0.000000</td>\n",
       "            </tr>\n",
       "            <tr>\n",
       "                        <th id=\"T_00e9b_level0_row9\" class=\"row_heading level0 row9\" >mean</th>\n",
       "                        <td id=\"T_00e9b_row9_col0\" class=\"data row9 col0\" >6.888889</td>\n",
       "                        <td id=\"T_00e9b_row9_col1\" class=\"data row9 col1\" >2.111111</td>\n",
       "                        <td id=\"T_00e9b_row9_col2\" class=\"data row9 col2\" >9.666667</td>\n",
       "                        <td id=\"T_00e9b_row9_col3\" class=\"data row9 col3\" >8.444444</td>\n",
       "            </tr>\n",
       "    </tbody></table>"
      ],
      "text/plain": [
       "<pandas.io.formats.style.Styler at 0x7f2524bb2b20>"
      ]
     },
     "execution_count": 243,
     "metadata": {},
     "output_type": "execute_result"
    }
   ],
   "source": [
    "tip_day = pd.crosstab(df['tip'].astype(int), df['day'])\n",
    "tip_day.loc['mean'] = tip_day.mean()\n",
    "tip_day.style.background_gradient(cmap='Blues')"
   ]
  },
  {
   "cell_type": "code",
   "execution_count": 244,
   "id": "placed-straight",
   "metadata": {},
   "outputs": [],
   "source": [
    "F, p_value = sc.stats.f_oneway(df['size'][df['day']=='Thur'].values,\n",
    "                               df['size'][df['day']=='Fri'].values,\n",
    "                               df['size'][df['day']=='Sat'].values,\n",
    "                               df['size'][df['day']=='Sun'].values)"
   ]
  },
  {
   "cell_type": "code",
   "execution_count": 245,
   "id": "centered-lewis",
   "metadata": {},
   "outputs": [
    {
     "name": "stdout",
     "output_type": "stream",
     "text": [
      " we are rejecting null hypothesis because p_values is 0.006840567173057235\n"
     ]
    }
   ],
   "source": [
    "if p_value < 0.05:    # alpha value is 0.05 or 5%\n",
    "    print(\" we are rejecting null hypothesis because p_values is {}\".format(p_value))\n",
    "else:\n",
    "    print(\"we are accepting null hypothesis because p_values is {}\".format(p_value))"
   ]
  },
  {
   "cell_type": "markdown",
   "id": "greenhouse-nurse",
   "metadata": {},
   "source": [
    "### Chi square test\n",
    "- It tells whether the two categorical attributes are correlated or not."
   ]
  },
  {
   "cell_type": "markdown",
   "id": "behind-naples",
   "metadata": {},
   "source": [
    "#### Example 1\n",
    "#### Is there a relation bwtween gender and churned out come.\n",
    "#### Null Hypothesis, there is no relation between gender and churned outcome.\n",
    "#### Alternative Hypothesis, there is a relation between gender and churned outcome."
   ]
  },
  {
   "cell_type": "code",
   "execution_count": 198,
   "id": "solar-lemon",
   "metadata": {},
   "outputs": [
    {
     "data": {
      "text/html": [
       "<div>\n",
       "<style scoped>\n",
       "    .dataframe tbody tr th:only-of-type {\n",
       "        vertical-align: middle;\n",
       "    }\n",
       "\n",
       "    .dataframe tbody tr th {\n",
       "        vertical-align: top;\n",
       "    }\n",
       "\n",
       "    .dataframe thead th {\n",
       "        text-align: right;\n",
       "    }\n",
       "</style>\n",
       "<table border=\"1\" class=\"dataframe\">\n",
       "  <thead>\n",
       "    <tr style=\"text-align: right;\">\n",
       "      <th></th>\n",
       "      <th>customerID</th>\n",
       "      <th>gender</th>\n",
       "      <th>SeniorCitizen</th>\n",
       "      <th>tenure</th>\n",
       "      <th>ServiceCount</th>\n",
       "      <th>Contract</th>\n",
       "      <th>PaperlessBilling</th>\n",
       "      <th>MonthlyCharges</th>\n",
       "      <th>TotalCharges</th>\n",
       "      <th>Churn</th>\n",
       "    </tr>\n",
       "  </thead>\n",
       "  <tbody>\n",
       "    <tr>\n",
       "      <th>0</th>\n",
       "      <td>7590-VHVEG</td>\n",
       "      <td>Female</td>\n",
       "      <td>0</td>\n",
       "      <td>1</td>\n",
       "      <td>2</td>\n",
       "      <td>Month-to-month</td>\n",
       "      <td>Yes</td>\n",
       "      <td>29.85</td>\n",
       "      <td>29.85</td>\n",
       "      <td>No</td>\n",
       "    </tr>\n",
       "    <tr>\n",
       "      <th>1</th>\n",
       "      <td>5575-GNVDE</td>\n",
       "      <td>Male</td>\n",
       "      <td>0</td>\n",
       "      <td>34</td>\n",
       "      <td>4</td>\n",
       "      <td>One year</td>\n",
       "      <td>No</td>\n",
       "      <td>56.95</td>\n",
       "      <td>1889.50</td>\n",
       "      <td>No</td>\n",
       "    </tr>\n",
       "    <tr>\n",
       "      <th>2</th>\n",
       "      <td>3668-QPYBK</td>\n",
       "      <td>Male</td>\n",
       "      <td>0</td>\n",
       "      <td>2</td>\n",
       "      <td>4</td>\n",
       "      <td>Month-to-month</td>\n",
       "      <td>Yes</td>\n",
       "      <td>53.85</td>\n",
       "      <td>108.15</td>\n",
       "      <td>Yes</td>\n",
       "    </tr>\n",
       "    <tr>\n",
       "      <th>3</th>\n",
       "      <td>7795-CFOCW</td>\n",
       "      <td>Male</td>\n",
       "      <td>0</td>\n",
       "      <td>45</td>\n",
       "      <td>4</td>\n",
       "      <td>One year</td>\n",
       "      <td>No</td>\n",
       "      <td>42.30</td>\n",
       "      <td>1840.75</td>\n",
       "      <td>No</td>\n",
       "    </tr>\n",
       "    <tr>\n",
       "      <th>4</th>\n",
       "      <td>9237-HQITU</td>\n",
       "      <td>Female</td>\n",
       "      <td>0</td>\n",
       "      <td>2</td>\n",
       "      <td>2</td>\n",
       "      <td>Month-to-month</td>\n",
       "      <td>Yes</td>\n",
       "      <td>70.70</td>\n",
       "      <td>151.65</td>\n",
       "      <td>Yes</td>\n",
       "    </tr>\n",
       "  </tbody>\n",
       "</table>\n",
       "</div>"
      ],
      "text/plain": [
       "   customerID  gender  SeniorCitizen  tenure  ServiceCount        Contract  \\\n",
       "0  7590-VHVEG  Female              0       1             2  Month-to-month   \n",
       "1  5575-GNVDE    Male              0      34             4        One year   \n",
       "2  3668-QPYBK    Male              0       2             4  Month-to-month   \n",
       "3  7795-CFOCW    Male              0      45             4        One year   \n",
       "4  9237-HQITU  Female              0       2             2  Month-to-month   \n",
       "\n",
       "  PaperlessBilling  MonthlyCharges  TotalCharges Churn  \n",
       "0              Yes           29.85         29.85    No  \n",
       "1               No           56.95       1889.50    No  \n",
       "2              Yes           53.85        108.15   Yes  \n",
       "3               No           42.30       1840.75    No  \n",
       "4              Yes           70.70        151.65   Yes  "
      ]
     },
     "execution_count": 198,
     "metadata": {},
     "output_type": "execute_result"
    }
   ],
   "source": [
    "df = pd.read_csv('https://raw.githubusercontent.com/srivatsan88/YouTubeLI/master/dataset/churn_data_st.csv')\n",
    "df.head()"
   ]
  },
  {
   "cell_type": "code",
   "execution_count": 199,
   "id": "prostate-ideal",
   "metadata": {},
   "outputs": [
    {
     "data": {
      "text/plain": [
       "<AxesSubplot:xlabel='gender', ylabel='count'>"
      ]
     },
     "execution_count": 199,
     "metadata": {},
     "output_type": "execute_result"
    },
    {
     "data": {
      "image/png": "[encoded data removed]",
      "text/plain": [
       "<Figure size 432x288 with 1 Axes>"
      ]
     },
     "metadata": {
      "needs_background": "light"
     },
     "output_type": "display_data"
    }
   ],
   "source": [
    "sns.countplot(x='gender', hue='Churn', data=df)"
   ]
  },
  {
   "cell_type": "code",
   "execution_count": 208,
   "id": "subject-while",
   "metadata": {},
   "outputs": [
    {
     "data": {
      "text/html": [
       "<div>\n",
       "<style scoped>\n",
       "    .dataframe tbody tr th:only-of-type {\n",
       "        vertical-align: middle;\n",
       "    }\n",
       "\n",
       "    .dataframe tbody tr th {\n",
       "        vertical-align: top;\n",
       "    }\n",
       "\n",
       "    .dataframe thead th {\n",
       "        text-align: right;\n",
       "    }\n",
       "</style>\n",
       "<table border=\"1\" class=\"dataframe\">\n",
       "  <thead>\n",
       "    <tr style=\"text-align: right;\">\n",
       "      <th>Churn</th>\n",
       "      <th>No</th>\n",
       "      <th>Yes</th>\n",
       "      <th>All</th>\n",
       "    </tr>\n",
       "    <tr>\n",
       "      <th>gender</th>\n",
       "      <th></th>\n",
       "      <th></th>\n",
       "      <th></th>\n",
       "    </tr>\n",
       "  </thead>\n",
       "  <tbody>\n",
       "    <tr>\n",
       "      <th>Female</th>\n",
       "      <td>2549</td>\n",
       "      <td>939</td>\n",
       "      <td>3488</td>\n",
       "    </tr>\n",
       "    <tr>\n",
       "      <th>Male</th>\n",
       "      <td>2625</td>\n",
       "      <td>930</td>\n",
       "      <td>3555</td>\n",
       "    </tr>\n",
       "    <tr>\n",
       "      <th>All</th>\n",
       "      <td>5174</td>\n",
       "      <td>1869</td>\n",
       "      <td>7043</td>\n",
       "    </tr>\n",
       "  </tbody>\n",
       "</table>\n",
       "</div>"
      ],
      "text/plain": [
       "Churn     No   Yes   All\n",
       "gender                  \n",
       "Female  2549   939  3488\n",
       "Male    2625   930  3555\n",
       "All     5174  1869  7043"
      ]
     },
     "execution_count": 208,
     "metadata": {},
     "output_type": "execute_result"
    }
   ],
   "source": [
    "df_a = pd.crosstab(df['gender'], df['Churn'], margins=True)\n",
    "df_a"
   ]
  },
  {
   "cell_type": "code",
   "execution_count": 220,
   "id": "featured-arrival",
   "metadata": {},
   "outputs": [],
   "source": [
    "chi2, p_value, dof, ex = sc.stats.chi2_contingency([df_a.iloc[0].values, df_a.iloc[1].values])"
   ]
  },
  {
   "cell_type": "code",
   "execution_count": 221,
   "id": "spatial-addiction",
   "metadata": {},
   "outputs": [
    {
     "name": "stdout",
     "output_type": "stream",
     "text": [
      "we are accepting null hypothesis because p_values is 0.7701397772756198\n"
     ]
    }
   ],
   "source": [
    "if p_value < 0.05:    # alpha value is 0.05 or 5%\n",
    "    print(\" we are rejecting null hypothesis because p_values is {}\".format(p_value))\n",
    "else:\n",
    "    print(\"we are accepting null hypothesis because p_values is {}\".format(p_value))"
   ]
  },
  {
   "cell_type": "code",
   "execution_count": null,
   "id": "moral-imperial",
   "metadata": {},
   "outputs": [],
   "source": []
  },
  {
   "cell_type": "markdown",
   "id": "public-association",
   "metadata": {},
   "source": [
    "#### Example 2\n",
    "#### Is there a relation bwtween paperless billing and churned out come.\n",
    "#### Null Hypothesis, there is no relation between paperless billing and churned outcome.\n",
    "#### Alternative Hypothesis, there is a relation between paperless billing and churned outcome."
   ]
  },
  {
   "cell_type": "code",
   "execution_count": 203,
   "id": "neutral-performance",
   "metadata": {},
   "outputs": [
    {
     "data": {
      "text/plain": [
       "<AxesSubplot:xlabel='PaperlessBilling', ylabel='count'>"
      ]
     },
     "execution_count": 203,
     "metadata": {},
     "output_type": "execute_result"
    },
    {
     "data": {
      "image/png": "[encoded data removed]",
      "text/plain": [
       "<Figure size 432x288 with 1 Axes>"
      ]
     },
     "metadata": {
      "needs_background": "light"
     },
     "output_type": "display_data"
    }
   ],
   "source": [
    "sns.countplot(x='PaperlessBilling', hue='Churn', data=df)"
   ]
  },
  {
   "cell_type": "code",
   "execution_count": 213,
   "id": "dated-funds",
   "metadata": {},
   "outputs": [
    {
     "data": {
      "text/html": [
       "<div>\n",
       "<style scoped>\n",
       "    .dataframe tbody tr th:only-of-type {\n",
       "        vertical-align: middle;\n",
       "    }\n",
       "\n",
       "    .dataframe tbody tr th {\n",
       "        vertical-align: top;\n",
       "    }\n",
       "\n",
       "    .dataframe thead th {\n",
       "        text-align: right;\n",
       "    }\n",
       "</style>\n",
       "<table border=\"1\" class=\"dataframe\">\n",
       "  <thead>\n",
       "    <tr style=\"text-align: right;\">\n",
       "      <th>Churn</th>\n",
       "      <th>No</th>\n",
       "      <th>Yes</th>\n",
       "      <th>All</th>\n",
       "    </tr>\n",
       "    <tr>\n",
       "      <th>PaperlessBilling</th>\n",
       "      <th></th>\n",
       "      <th></th>\n",
       "      <th></th>\n",
       "    </tr>\n",
       "  </thead>\n",
       "  <tbody>\n",
       "    <tr>\n",
       "      <th>No</th>\n",
       "      <td>2403</td>\n",
       "      <td>469</td>\n",
       "      <td>2872</td>\n",
       "    </tr>\n",
       "    <tr>\n",
       "      <th>Yes</th>\n",
       "      <td>2771</td>\n",
       "      <td>1400</td>\n",
       "      <td>4171</td>\n",
       "    </tr>\n",
       "    <tr>\n",
       "      <th>All</th>\n",
       "      <td>5174</td>\n",
       "      <td>1869</td>\n",
       "      <td>7043</td>\n",
       "    </tr>\n",
       "  </tbody>\n",
       "</table>\n",
       "</div>"
      ],
      "text/plain": [
       "Churn               No   Yes   All\n",
       "PaperlessBilling                  \n",
       "No                2403   469  2872\n",
       "Yes               2771  1400  4171\n",
       "All               5174  1869  7043"
      ]
     },
     "execution_count": 213,
     "metadata": {},
     "output_type": "execute_result"
    }
   ],
   "source": [
    "df_b = pd.crosstab(df['PaperlessBilling'], df['Churn'], margins=True)\n",
    "df_b_x = pd.crosstab(df['PaperlessBilling'], df['Churn'])\n",
    "df_b"
   ]
  },
  {
   "cell_type": "code",
   "execution_count": 217,
   "id": "vital-venice",
   "metadata": {},
   "outputs": [],
   "source": [
    "chi2, p_value, dof, ex = sc.stats.chi2_contingency([df_b_x.iloc[0].values, df_b_x.iloc[1].values])"
   ]
  },
  {
   "cell_type": "code",
   "execution_count": 218,
   "id": "closed-accused",
   "metadata": {},
   "outputs": [
    {
     "name": "stdout",
     "output_type": "stream",
     "text": [
      " we are rejecting null hypothesis because p_values is 4.073354668665985e-58\n"
     ]
    }
   ],
   "source": [
    "if p_value < 0.05:    # alpha value is 0.05 or 5%\n",
    "    print(\" we are rejecting null hypothesis because p_values is {}\".format(p_value))\n",
    "else:\n",
    "    print(\"we are accepting null hypothesis because p_values is {}\".format(p_value))"
   ]
  },
  {
   "cell_type": "code",
   "execution_count": null,
   "id": "micro-bhutan",
   "metadata": {},
   "outputs": [],
   "source": []
  },
  {
   "cell_type": "code",
   "execution_count": null,
   "id": "hourly-bibliography",
   "metadata": {},
   "outputs": [],
   "source": []
  }
 ],
 "metadata": {
  "kernelspec": {
   "display_name": "Python 3 (ipykernel)",
   "language": "python",
   "name": "python3"
  },
  "language_info": {
   "codemirror_mode": {
    "name": "ipython",
    "version": 3
   },
   "file_extension": ".py",
   "mimetype": "text/x-python",
   "name": "python",
   "nbconvert_exporter": "python",
   "pygments_lexer": "ipython3",
   "version": "3.8.5"
  }
 },
 "nbformat": 4,
 "nbformat_minor": 5
}
